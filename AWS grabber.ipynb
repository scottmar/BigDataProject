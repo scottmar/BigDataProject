{
 "cells": [
  {
   "cell_type": "code",
   "execution_count": 1,
   "metadata": {
    "collapsed": false
   },
   "outputs": [],
   "source": [
    "# import library and credentials, and set up the session\n",
    "import boto3\n",
    "from credentials import AWS_ACCESS_KEY_ID, AWS_SECRET_ACCESS_KEY\n",
    "\n",
    "session = boto3.Session(\n",
    "    aws_access_key_id=AWS_ACCESS_KEY_ID,\n",
    "    aws_secret_access_key=AWS_SECRET_ACCESS_KEY,\n",
    "    )\n",
    "s3 = session.resource('s3')\n",
    "bkt = s3.Bucket('cddl-riyadh-2')"
   ]
  },
  {
   "cell_type": "code",
   "execution_count": 2,
   "metadata": {
    "collapsed": false
   },
   "outputs": [
    {
     "name": "stdout",
     "output_type": "stream",
     "text": [
      "cddl-citydraw\n",
      "cddl-fieldpapers\n",
      "cddl-riyadh-2\n",
      "cddl-stl\n",
      "cddl-stl-cloudtrail\n",
      "elasticbeanstalk-us-east-1-242845712272\n"
     ]
    }
   ],
   "source": [
    "# Look at the names of the buckets\n",
    "for bucket in s3.buckets.all():\n",
    "        print(bucket.name)    \n"
   ]
  },
  {
   "cell_type": "code",
   "execution_count": null,
   "metadata": {
    "collapsed": false
   },
   "outputs": [],
   "source": [
    "# Computer tends to freeze when looking at all filenames, but can show the first 1000 entries fairly easily.\n",
    "\n",
    "i=0\n",
    "for obj in bkt.objects.filter(Prefix='data/twitter'):\n",
    "    if i<1000:\n",
    "        print str(i)+\" \"+(obj.key)\n",
    "        i+=1\n",
    "    else:\n",
    "        break"
   ]
  },
  {
   "cell_type": "code",
   "execution_count": null,
   "metadata": {
    "collapsed": false
   },
   "outputs": [],
   "source": [
    "# Start by simply counting all jsons in the twitter folder\n",
    "bkt = s3.Bucket('cddl-riyadh-2')\n",
    "j=0\n",
    "for obj in bkt.objects.filter(Prefix='data/twitter'):\n",
    "    j+=1\n",
    "\n",
    "print j\n"
   ]
  },
  {
   "cell_type": "code",
   "execution_count": null,
   "metadata": {
    "collapsed": false,
    "scrolled": true
   },
   "outputs": [],
   "source": [
    "# 23k, no wonder it takes a bit. Now make a query to grab a week's worth and download them\n",
    "# Have to name files with iterative numbers; naming them after obj.key throws \"invalid filename\" error\n",
    "\n",
    "week = ['2015-10-08','2015-10-09','2015-10-10','2015-10-11','2015-10-12','2015-10-13','2015-10-14']\n",
    "k=0\n",
    "for obj in bkt.objects.filter(Prefix='data/twitter'):\n",
    "    for day in week:\n",
    "        if day in obj.key:\n",
    "            obj2 = bkt.Object(obj.key)\n",
    "            obj2.download_file(str(k) + \"_.json\")\n",
    "    k+=1"
   ]
  },
  {
   "cell_type": "code",
   "execution_count": 7,
   "metadata": {
    "collapsed": false
   },
   "outputs": [],
   "source": [
    "import datetime\n",
    "import pandas as pd\n",
    "import numpy as np"
   ]
  },
  {
   "cell_type": "code",
   "execution_count": 13,
   "metadata": {
    "collapsed": false
   },
   "outputs": [
    {
     "data": {
      "text/plain": [
       "DatetimeIndex(['2015-10-08', '2015-10-09', '2015-10-10', '2015-10-11',\n",
       "               '2015-10-12', '2015-10-13', '2015-10-14', '2015-10-15',\n",
       "               '2015-10-16', '2015-10-17', '2015-10-18', '2015-10-19',\n",
       "               '2015-10-20', '2015-10-21', '2015-10-22', '2015-10-23',\n",
       "               '2015-10-24', '2015-10-25', '2015-10-26', '2015-10-27',\n",
       "               '2015-10-28', '2015-10-29', '2015-10-30', '2015-10-31',\n",
       "               '2015-11-01', '2015-11-02', '2015-11-03', '2015-11-04',\n",
       "               '2015-11-05', '2015-11-06', '2015-11-07', '2015-11-08',\n",
       "               '2015-11-09', '2015-11-10', '2015-11-11', '2015-11-12',\n",
       "               '2015-11-13', '2015-11-14', '2015-11-15', '2015-11-16',\n",
       "               '2015-11-17', '2015-11-18', '2015-11-19', '2015-11-20',\n",
       "               '2015-11-21', '2015-11-22', '2015-11-23', '2015-11-24',\n",
       "               '2015-11-25', '2015-11-26', '2015-11-27', '2015-11-28',\n",
       "               '2015-11-29', '2015-11-30', '2015-12-01', '2015-12-02',\n",
       "               '2015-12-03', '2015-12-04', '2015-12-05', '2015-12-06',\n",
       "               '2015-12-07', '2015-12-08', '2015-12-09', '2015-12-10',\n",
       "               '2015-12-11', '2015-12-12', '2015-12-13', '2015-12-14',\n",
       "               '2015-12-15', '2015-12-16', '2015-12-17', '2015-12-18',\n",
       "               '2015-12-19', '2015-12-20', '2015-12-21', '2015-12-22',\n",
       "               '2015-12-23', '2015-12-24', '2015-12-25', '2015-12-26',\n",
       "               '2015-12-27', '2015-12-28', '2015-12-29', '2015-12-30',\n",
       "               '2015-12-31', '2016-01-01', '2016-01-02', '2016-01-03',\n",
       "               '2016-01-04', '2016-01-05', '2016-01-06', '2016-01-07',\n",
       "               '2016-01-08', '2016-01-09', '2016-01-10', '2016-01-11',\n",
       "               '2016-01-12', '2016-01-13', '2016-01-14', '2016-01-15'],\n",
       "              dtype='datetime64[ns]', freq='D')"
      ]
     },
     "execution_count": 13,
     "metadata": {},
     "output_type": "execute_result"
    }
   ],
   "source": [
    "date_list = pd.date_range('2015-10-08', periods=100)\n",
    "date_list"
   ]
  },
  {
   "cell_type": "code",
   "execution_count": 14,
   "metadata": {
    "collapsed": false
   },
   "outputs": [
    {
     "name": "stdout",
     "output_type": "stream",
     "text": [
      "<class 'pandas.tseries.index.DatetimeIndex'>\n"
     ]
    }
   ],
   "source": [
    "print type(date_list)"
   ]
  },
  {
   "cell_type": "code",
   "execution_count": 16,
   "metadata": {
    "collapsed": true
   },
   "outputs": [],
   "source": [
    "date_list2 = ['2015-10-08', '2015-10-09', '2015-10-10', '2015-10-11',\n",
    "               '2015-10-12', '2015-10-13', '2015-10-14', '2015-10-15',\n",
    "               '2015-10-16', '2015-10-17', '2015-10-18', '2015-10-19',\n",
    "               '2015-10-20', '2015-10-21', '2015-10-22', '2015-10-23',\n",
    "               '2015-10-24', '2015-10-25', '2015-10-26', '2015-10-27',\n",
    "               '2015-10-28', '2015-10-29', '2015-10-30', '2015-10-31',\n",
    "               '2015-11-01', '2015-11-02', '2015-11-03', '2015-11-04',\n",
    "               '2015-11-05', '2015-11-06', '2015-11-07', '2015-11-08',\n",
    "               '2015-11-09', '2015-11-10', '2015-11-11', '2015-11-12',\n",
    "               '2015-11-13', '2015-11-14', '2015-11-15', '2015-11-16',\n",
    "               '2015-11-17', '2015-11-18', '2015-11-19', '2015-11-20',\n",
    "               '2015-11-21', '2015-11-22', '2015-11-23', '2015-11-24',\n",
    "               '2015-11-25', '2015-11-26', '2015-11-27', '2015-11-28',\n",
    "               '2015-11-29', '2015-11-30', '2015-12-01', '2015-12-02',\n",
    "               '2015-12-03', '2015-12-04', '2015-12-05', '2015-12-06',\n",
    "               '2015-12-07', '2015-12-08', '2015-12-09', '2015-12-10',\n",
    "               '2015-12-11', '2015-12-12', '2015-12-13', '2015-12-14',\n",
    "               '2015-12-15', '2015-12-16', '2015-12-17', '2015-12-18',\n",
    "               '2015-12-19', '2015-12-20', '2015-12-21', '2015-12-22',\n",
    "               '2015-12-23', '2015-12-24', '2015-12-25', '2015-12-26',\n",
    "               '2015-12-27', '2015-12-28', '2015-12-29', '2015-12-30',\n",
    "               '2015-12-31', '2016-01-01', '2016-01-02', '2016-01-03',\n",
    "               '2016-01-04', '2016-01-05', '2016-01-06', '2016-01-07',\n",
    "               '2016-01-08', '2016-01-09', '2016-01-10', '2016-01-11',\n",
    "               '2016-01-12', '2016-01-13', '2016-01-14', '2016-01-15']"
   ]
  },
  {
   "cell_type": "code",
   "execution_count": 18,
   "metadata": {
    "collapsed": false
   },
   "outputs": [],
   "source": [
    "m=0\n",
    "for obj in bkt.objects.filter(Prefix='data/twitter'):\n",
    "    for day in date_list2:\n",
    "        if day in obj.key:\n",
    "            obj2 = bkt.Object(obj.key)\n",
    "            obj2.download_file(str(m) + \"_.json\")\n",
    "    m+=1"
   ]
  },
  {
   "cell_type": "code",
   "execution_count": null,
   "metadata": {
    "collapsed": true
   },
   "outputs": [],
   "source": []
  }
 ],
 "metadata": {
  "kernelspec": {
   "display_name": "Python 2",
   "language": "python",
   "name": "python2"
  },
  "language_info": {
   "codemirror_mode": {
    "name": "ipython",
    "version": 2
   },
   "file_extension": ".py",
   "mimetype": "text/x-python",
   "name": "python",
   "nbconvert_exporter": "python",
   "pygments_lexer": "ipython2",
   "version": "2.7.11"
  }
 },
 "nbformat": 4,
 "nbformat_minor": 0
}
