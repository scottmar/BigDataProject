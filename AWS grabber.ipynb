{
 "cells": [
  {
   "cell_type": "code",
   "execution_count": null,
   "metadata": {
    "collapsed": false
   },
   "outputs": [],
   "source": [
    "# import library and credentials, and set up the session\n",
    "import boto3\n",
    "from credentials import AWS_ACCESS_KEY_ID, AWS_SECRET_ACCESS_KEY\n",
    "\n",
    "session = boto3.Session(\n",
    "    aws_access_key_id=AWS_ACCESS_KEY_ID,\n",
    "    aws_secret_access_key=AWS_SECRET_ACCESS_KEY,\n",
    "    )\n",
    "s3 = session.resource('s3')\n",
    "bkt = s3.Bucket('cddl-riyadh-2')"
   ]
  },
  {
   "cell_type": "code",
   "execution_count": null,
   "metadata": {
    "collapsed": false
   },
   "outputs": [],
   "source": [
    "# Look at the names of the buckets\n",
    "for bucket in s3.buckets.all():\n",
    "        print(bucket.name)    \n"
   ]
  },
  {
   "cell_type": "code",
   "execution_count": null,
   "metadata": {
    "collapsed": false
   },
   "outputs": [],
   "source": [
    "# Computer tends to freeze when looking at all filenames, but can show the first 1000 entries fairly easily.\n",
    "\n",
    "i=0\n",
    "for obj in bkt.objects.filter(Prefix='data/twitter'):\n",
    "    if i<1000:\n",
    "        print str(i)+\" \"+(obj.key)\n",
    "        i+=1\n",
    "    else:\n",
    "        break"
   ]
  },
  {
   "cell_type": "code",
   "execution_count": null,
   "metadata": {
    "collapsed": false
   },
   "outputs": [],
   "source": [
    "# Start by simply counting all jsons in the twitter folder\n",
    "bkt = s3.Bucket('cddl-riyadh-2')\n",
    "j=0\n",
    "for obj in bkt.objects.filter(Prefix='data/twitter'):\n",
    "    j+=1\n",
    "\n",
    "print j\n"
   ]
  },
  {
   "cell_type": "code",
   "execution_count": null,
   "metadata": {
    "collapsed": false,
    "scrolled": true
   },
   "outputs": [],
   "source": [
    "# 23k, no wonder it takes a bit. Now make a query to grab a week's worth and download them\n",
    "# Have to name files with iterative numbers; naming them after obj.key throws \"invalid filename\" error\n",
    "\n",
    "week = ['2015-10-08','2015-10-09','2015-10-10','2015-10-11','2015-10-12','2015-10-13','2015-10-14']\n",
    "k=0\n",
    "for obj in bkt.objects.filter(Prefix='data/twitter'):\n",
    "    for day in week:\n",
    "        if day in obj.key:\n",
    "            obj2 = bkt.Object(obj.key)\n",
    "            obj2.download_file(str(k) + \"_.json\")\n",
    "    k+=1"
   ]
  },
  {
   "cell_type": "code",
   "execution_count": null,
   "metadata": {
    "collapsed": true
   },
   "outputs": [],
   "source": []
  }
 ],
 "metadata": {
  "kernelspec": {
   "display_name": "Python 2",
   "language": "python",
   "name": "python2"
  },
  "language_info": {
   "codemirror_mode": {
    "name": "ipython",
    "version": 2
   },
   "file_extension": ".py",
   "mimetype": "text/x-python",
   "name": "python",
   "nbconvert_exporter": "python",
   "pygments_lexer": "ipython2",
   "version": "2.7.11"
  }
 },
 "nbformat": 4,
 "nbformat_minor": 0
}
