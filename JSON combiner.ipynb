{
 "cells": [
  {
   "cell_type": "code",
   "execution_count": 1,
   "metadata": {
    "collapsed": true
   },
   "outputs": [],
   "source": [
    "import pandas as pd\n",
    "import numpy as np"
   ]
  },
  {
   "cell_type": "code",
   "execution_count": 2,
   "metadata": {
    "collapsed": false
   },
   "outputs": [],
   "source": [
    "#create a list of file names to import\n",
    "#adjust this if the individual jsons have a different file name format\n",
    "\n",
    "filenames = []\n",
    "for x in range(20000,23465):\n",
    "    string = str(x)+\"_.json\"\n",
    "    filenames.append(string)"
   ]
  },
  {
   "cell_type": "code",
   "execution_count": 3,
   "metadata": {
    "collapsed": false
   },
   "outputs": [
    {
     "name": "stdout",
     "output_type": "stream",
     "text": [
      "100\n",
      "200\n",
      "300\n",
      "400\n",
      "500\n",
      "600\n",
      "700\n",
      "800\n",
      "900\n",
      "1000\n",
      "1100\n",
      "1200\n",
      "1300\n",
      "1400\n",
      "1500\n",
      "1600\n",
      "1700\n",
      "1800\n",
      "1900\n",
      "2000\n",
      "2100\n",
      "2200\n",
      "2300\n",
      "2400\n",
      "2500\n",
      "2600\n",
      "2700\n",
      "2800\n",
      "2900\n",
      "3000\n",
      "3100\n",
      "3200\n",
      "3300\n",
      "3400\n"
     ]
    }
   ],
   "source": [
    "#create a list of dataframes built from the files\n",
    "frames = []\n",
    "count = 0\n",
    "for name in filenames:\n",
    "    df = pd.read_json(\"jsons-twitter-10-8-15to1-15-16/\"+name)\n",
    "    df2 = df.transpose()\n",
    "    frames.append(df2)\n",
    "    count+=1\n",
    "    if count%100 == 0:\n",
    "        print count"
   ]
  },
  {
   "cell_type": "code",
   "execution_count": null,
   "metadata": {
    "collapsed": false
   },
   "outputs": [],
   "source": [
    "df2.head()"
   ]
  },
  {
   "cell_type": "code",
   "execution_count": 4,
   "metadata": {
    "collapsed": false
   },
   "outputs": [],
   "source": [
    "#concatenate all the dataframes into one big one\n",
    "big_data = pd.concat(frames)\n"
   ]
  },
  {
   "cell_type": "code",
   "execution_count": 5,
   "metadata": {
    "collapsed": false
   },
   "outputs": [
    {
     "name": "stdout",
     "output_type": "stream",
     "text": [
      "226692\n"
     ]
    }
   ],
   "source": [
    "print len(big_data)\n",
    "big_data = big_data.reset_index(drop = True)"
   ]
  },
  {
   "cell_type": "code",
   "execution_count": 6,
   "metadata": {
    "collapsed": true
   },
   "outputs": [],
   "source": [
    "#remove duplicates\n",
    "\n",
    "big_data.drop_duplicates(subset='tweet_id',inplace=True)"
   ]
  },
  {
   "cell_type": "code",
   "execution_count": 7,
   "metadata": {
    "collapsed": false
   },
   "outputs": [
    {
     "data": {
      "text/plain": [
       "17690"
      ]
     },
     "execution_count": 7,
     "metadata": {},
     "output_type": "execute_result"
    }
   ],
   "source": [
    "len(big_data)"
   ]
  },
  {
   "cell_type": "code",
   "execution_count": 8,
   "metadata": {
    "collapsed": false
   },
   "outputs": [],
   "source": [
    "# Export as one file\n",
    "\n",
    "big_data.to_json('chunk5.json')\n",
    "\n",
    "# The csv is more useful for converting to other formats, but is unwieldy\n",
    "# big_data.to_csv('WeekOfTweets.csv')"
   ]
  },
  {
   "cell_type": "code",
   "execution_count": 9,
   "metadata": {
    "collapsed": true
   },
   "outputs": [],
   "source": [
    "part1 = pd.read_json('chunk1.json')\n",
    "part2 = pd.read_json('chunk2.json')\n",
    "part3 = pd.read_json('chunk3.json')\n",
    "part4 = pd.read_json('chunk4.json')\n",
    "part5 = pd.read_json('chunk5.json')"
   ]
  },
  {
   "cell_type": "code",
   "execution_count": 10,
   "metadata": {
    "collapsed": true
   },
   "outputs": [],
   "source": [
    "everything = pd.concat([part1,part2,part3,part4,part5])"
   ]
  },
  {
   "cell_type": "code",
   "execution_count": 13,
   "metadata": {
    "collapsed": false
   },
   "outputs": [
    {
     "data": {
      "text/plain": [
       "125390"
      ]
     },
     "execution_count": 13,
     "metadata": {},
     "output_type": "execute_result"
    }
   ],
   "source": [
    "len(everything)"
   ]
  },
  {
   "cell_type": "code",
   "execution_count": 12,
   "metadata": {
    "collapsed": true
   },
   "outputs": [],
   "source": [
    "everything.drop_duplicates(subset='tweet_id',inplace=True)"
   ]
  },
  {
   "cell_type": "code",
   "execution_count": 15,
   "metadata": {
    "collapsed": false
   },
   "outputs": [
    {
     "data": {
      "text/html": [
       "<div>\n",
       "<table border=\"1\" class=\"dataframe\">\n",
       "  <thead>\n",
       "    <tr style=\"text-align: right;\">\n",
       "      <th></th>\n",
       "      <th>content</th>\n",
       "      <th>data_point</th>\n",
       "      <th>lat</th>\n",
       "      <th>lon</th>\n",
       "      <th>raw_source</th>\n",
       "      <th>time</th>\n",
       "      <th>tweet_id</th>\n",
       "      <th>user</th>\n",
       "      <th>user_location</th>\n",
       "    </tr>\n",
       "  </thead>\n",
       "  <tbody>\n",
       "    <tr>\n",
       "      <th>0</th>\n",
       "      <td>ﺃَﺳْﺘَﻐْﻔِﺮُ اﻟﻠَّﻪَ ﻭَﺃَﺗُﻮﺏُ ﺇِﻟَﻴْﻪِ .</td>\n",
       "      <td>none</td>\n",
       "      <td>46.758696</td>\n",
       "      <td>24.695512</td>\n",
       "      <td>{u'contributors': None, u'truncated': False, u...</td>\n",
       "      <td>Thu Oct 08 03:09:57 +0000 2015</td>\n",
       "      <td>651957677829025792</td>\n",
       "      <td>1624568515</td>\n",
       "      <td>استغفر الله واتوب إليه</td>\n",
       "    </tr>\n",
       "    <tr>\n",
       "      <th>1</th>\n",
       "      <td>ﺳُﺒْﺤـﺎﻥَ اﻟﻠﻪِ ﻭَﺑِﺤَﻤْـﺪِﻩِ ﻋَﺪَﺩَ ﺧَﻠْـﻘِﻪ ...</td>\n",
       "      <td>none</td>\n",
       "      <td>46.758696</td>\n",
       "      <td>24.695512</td>\n",
       "      <td>{u'contributors': None, u'truncated': False, u...</td>\n",
       "      <td>Thu Oct 08 03:10:32 +0000 2015</td>\n",
       "      <td>651957822356365314</td>\n",
       "      <td>1624568515</td>\n",
       "      <td>استغفر الله واتوب إليه</td>\n",
       "    </tr>\n",
       "    <tr>\n",
       "      <th>10</th>\n",
       "      <td>﴿ وَ اشرقت الأرض بنوُرِ ربها ﴾\\nيكفيك هذا لتُح...</td>\n",
       "      <td>none</td>\n",
       "      <td>46.696369</td>\n",
       "      <td>24.758625</td>\n",
       "      <td>{u'contributors': None, u'truncated': False, u...</td>\n",
       "      <td>Thu Oct 08 03:13:54 +0000 2015</td>\n",
       "      <td>651958670104760320</td>\n",
       "      <td>458978801</td>\n",
       "      <td>Riyadh</td>\n",
       "    </tr>\n",
       "    <tr>\n",
       "      <th>100</th>\n",
       "      <td>اللهـم ما أصبـح بي مـن نعـمة أو بأحـد مـن خلـق...</td>\n",
       "      <td>none</td>\n",
       "      <td>46.678870</td>\n",
       "      <td>24.625350</td>\n",
       "      <td>{u'contributors': None, u'truncated': False, u...</td>\n",
       "      <td>Thu Oct 08 04:30:28 +0000 2015</td>\n",
       "      <td>651977937193832448</td>\n",
       "      <td>389860963</td>\n",
       "      <td>Riyadh</td>\n",
       "    </tr>\n",
       "    <tr>\n",
       "      <th>1000</th>\n",
       "      <td>الله معاك يا#اخضر         #السعودية_الأمارات (...</td>\n",
       "      <td>none</td>\n",
       "      <td>46.743724</td>\n",
       "      <td>24.660585</td>\n",
       "      <td>{u'contributors': None, u'truncated': False, u...</td>\n",
       "      <td>Thu Oct 08 15:36:30 +0000 2015</td>\n",
       "      <td>652145551153098752</td>\n",
       "      <td>401903480</td>\n",
       "      <td>Riyadh</td>\n",
       "    </tr>\n",
       "  </tbody>\n",
       "</table>\n",
       "</div>"
      ],
      "text/plain": [
       "                                                content data_point        lat  \\\n",
       "0             ﺃَﺳْﺘَﻐْﻔِﺮُ اﻟﻠَّﻪَ ﻭَﺃَﺗُﻮﺏُ ﺇِﻟَﻴْﻪِ .       none  46.758696   \n",
       "1     ﺳُﺒْﺤـﺎﻥَ اﻟﻠﻪِ ﻭَﺑِﺤَﻤْـﺪِﻩِ ﻋَﺪَﺩَ ﺧَﻠْـﻘِﻪ ...       none  46.758696   \n",
       "10    ﴿ وَ اشرقت الأرض بنوُرِ ربها ﴾\\nيكفيك هذا لتُح...       none  46.696369   \n",
       "100   اللهـم ما أصبـح بي مـن نعـمة أو بأحـد مـن خلـق...       none  46.678870   \n",
       "1000  الله معاك يا#اخضر         #السعودية_الأمارات (...       none  46.743724   \n",
       "\n",
       "            lon                                         raw_source  \\\n",
       "0     24.695512  {u'contributors': None, u'truncated': False, u...   \n",
       "1     24.695512  {u'contributors': None, u'truncated': False, u...   \n",
       "10    24.758625  {u'contributors': None, u'truncated': False, u...   \n",
       "100   24.625350  {u'contributors': None, u'truncated': False, u...   \n",
       "1000  24.660585  {u'contributors': None, u'truncated': False, u...   \n",
       "\n",
       "                                time            tweet_id        user  \\\n",
       "0     Thu Oct 08 03:09:57 +0000 2015  651957677829025792  1624568515   \n",
       "1     Thu Oct 08 03:10:32 +0000 2015  651957822356365314  1624568515   \n",
       "10    Thu Oct 08 03:13:54 +0000 2015  651958670104760320   458978801   \n",
       "100   Thu Oct 08 04:30:28 +0000 2015  651977937193832448   389860963   \n",
       "1000  Thu Oct 08 15:36:30 +0000 2015  652145551153098752   401903480   \n",
       "\n",
       "               user_location  \n",
       "0     استغفر الله واتوب إليه  \n",
       "1     استغفر الله واتوب إليه  \n",
       "10                    Riyadh  \n",
       "100                   Riyadh  \n",
       "1000                  Riyadh  "
      ]
     },
     "execution_count": 15,
     "metadata": {},
     "output_type": "execute_result"
    }
   ],
   "source": [
    "everything.head()\n"
   ]
  },
  {
   "cell_type": "code",
   "execution_count": 16,
   "metadata": {
    "collapsed": true
   },
   "outputs": [],
   "source": [
    "everything.reset_index(drop=True, inplace=True)"
   ]
  },
  {
   "cell_type": "code",
   "execution_count": 17,
   "metadata": {
    "collapsed": true
   },
   "outputs": [],
   "source": [
    "everything.to_json('full_dataset.json')"
   ]
  },
  {
   "cell_type": "code",
   "execution_count": null,
   "metadata": {
    "collapsed": true
   },
   "outputs": [],
   "source": []
  }
 ],
 "metadata": {
  "kernelspec": {
   "display_name": "Python 2",
   "language": "python",
   "name": "python2"
  },
  "language_info": {
   "codemirror_mode": {
    "name": "ipython",
    "version": 2
   },
   "file_extension": ".py",
   "mimetype": "text/x-python",
   "name": "python",
   "nbconvert_exporter": "python",
   "pygments_lexer": "ipython2",
   "version": "2.7.11"
  }
 },
 "nbformat": 4,
 "nbformat_minor": 0
}
