{
 "cells": [
  {
   "cell_type": "code",
   "execution_count": 1,
   "metadata": {
    "collapsed": true
   },
   "outputs": [],
   "source": [
    "import pandas as pd\n",
    "import numpy as np"
   ]
  },
  {
   "cell_type": "code",
   "execution_count": null,
   "metadata": {
    "collapsed": false
   },
   "outputs": [],
   "source": [
    "#create a list of file names to import\n",
    "#adjust this if the individual jsons have a different file name format\n",
    "\n",
    "filenames = []\n",
    "for x in range(2,1964):\n",
    "    string = str(x)+\"_.json\"\n",
    "    filenames.append(string)"
   ]
  },
  {
   "cell_type": "code",
   "execution_count": null,
   "metadata": {
    "collapsed": false
   },
   "outputs": [],
   "source": [
    "#create a list of dataframes built from the files\n",
    "frames = []\n",
    "for name in filenames:\n",
    "    df = pd.read_json(\"twitter/\"+name)\n",
    "    df2 = df.transpose()\n",
    "    frames.append(df2)\n",
    "print len(frames)"
   ]
  },
  {
   "cell_type": "code",
   "execution_count": null,
   "metadata": {
    "collapsed": false
   },
   "outputs": [],
   "source": [
    "#concatenate all the dataframes into one big one\n",
    "big_data = pd.concat(frames)\n",
    "print len(big_data)\n"
   ]
  },
  {
   "cell_type": "code",
   "execution_count": null,
   "metadata": {
    "collapsed": false
   },
   "outputs": [],
   "source": [
    "# Nearly 100,000 tweets! Let's export them into a single file.\n",
    "big_data = big_data.reset_index()\n",
    "big_data.to_json('WeekOfTweets.json')\n",
    "\n",
    "# The csv is more useful for converting to other formats, but is unwieldy\n",
    "# big_data.to_csv('WeekOfTweets.csv')"
   ]
  },
  {
   "cell_type": "code",
   "execution_count": null,
   "metadata": {
    "collapsed": true
   },
   "outputs": [],
   "source": []
  }
 ],
 "metadata": {
  "kernelspec": {
   "display_name": "Python 2",
   "language": "python",
   "name": "python2"
  },
  "language_info": {
   "codemirror_mode": {
    "name": "ipython",
    "version": 2
   },
   "file_extension": ".py",
   "mimetype": "text/x-python",
   "name": "python",
   "nbconvert_exporter": "python",
   "pygments_lexer": "ipython2",
   "version": "2.7.11"
  }
 },
 "nbformat": 4,
 "nbformat_minor": 0
}
