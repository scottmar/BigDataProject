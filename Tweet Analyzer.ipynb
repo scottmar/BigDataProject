{
 "cells": [
  {
   "cell_type": "code",
   "execution_count": 1,
   "metadata": {
    "collapsed": true
   },
   "outputs": [],
   "source": [
    "import pandas as pd"
   ]
  },
  {
   "cell_type": "code",
   "execution_count": 2,
   "metadata": {
    "collapsed": false
   },
   "outputs": [],
   "source": [
    "tweet_list = pd.read_json(\"WeekOfTweets.json\")\n"
   ]
  },
  {
   "cell_type": "code",
   "execution_count": 3,
   "metadata": {
    "collapsed": false,
    "scrolled": true
   },
   "outputs": [
    {
     "data": {
      "text/html": [
       "<div>\n",
       "<table border=\"1\" class=\"dataframe\">\n",
       "  <thead>\n",
       "    <tr style=\"text-align: right;\">\n",
       "      <th></th>\n",
       "      <th>content</th>\n",
       "      <th>data_point</th>\n",
       "      <th>index</th>\n",
       "      <th>lat</th>\n",
       "      <th>lon</th>\n",
       "      <th>raw_source</th>\n",
       "      <th>time</th>\n",
       "      <th>tweet_id</th>\n",
       "      <th>user</th>\n",
       "      <th>user_location</th>\n",
       "    </tr>\n",
       "  </thead>\n",
       "  <tbody>\n",
       "    <tr>\n",
       "      <th>0</th>\n",
       "      <td>ﺃَﺳْﺘَﻐْﻔِﺮُ اﻟﻠَّﻪَ ﻭَﺃَﺗُﻮﺏُ ﺇِﻟَﻴْﻪِ .</td>\n",
       "      <td>none</td>\n",
       "      <td>651957677829</td>\n",
       "      <td>46.758696</td>\n",
       "      <td>24.695512</td>\n",
       "      <td>{u'contributors': None, u'truncated': False, u...</td>\n",
       "      <td>Thu Oct 08 03:09:57 +0000 2015</td>\n",
       "      <td>651957677829025792</td>\n",
       "      <td>1624568515</td>\n",
       "      <td>استغفر الله واتوب إليه</td>\n",
       "    </tr>\n",
       "    <tr>\n",
       "      <th>1</th>\n",
       "      <td>ﺳُﺒْﺤـﺎﻥَ اﻟﻠﻪِ ﻭَﺑِﺤَﻤْـﺪِﻩِ ﻋَﺪَﺩَ ﺧَﻠْـﻘِﻪ ...</td>\n",
       "      <td>none</td>\n",
       "      <td>651957822356</td>\n",
       "      <td>46.758696</td>\n",
       "      <td>24.695512</td>\n",
       "      <td>{u'contributors': None, u'truncated': False, u...</td>\n",
       "      <td>Thu Oct 08 03:10:32 +0000 2015</td>\n",
       "      <td>651957822356365314</td>\n",
       "      <td>1624568515</td>\n",
       "      <td>استغفر الله واتوب إليه</td>\n",
       "    </tr>\n",
       "    <tr>\n",
       "      <th>10</th>\n",
       "      <td>﴿ وَ اشرقت الأرض بنوُرِ ربها ﴾\\nيكفيك هذا لتُح...</td>\n",
       "      <td>none</td>\n",
       "      <td>651958670104</td>\n",
       "      <td>46.696369</td>\n",
       "      <td>24.758625</td>\n",
       "      <td>{u'contributors': None, u'truncated': False, u...</td>\n",
       "      <td>Thu Oct 08 03:13:54 +0000 2015</td>\n",
       "      <td>651958670104760320</td>\n",
       "      <td>458978801</td>\n",
       "      <td>Riyadh</td>\n",
       "    </tr>\n",
       "    <tr>\n",
       "      <th>100</th>\n",
       "      <td>اول يوم تأخير ،عز الله فلحت 🙆🏻😁 (@ Khurais ...</td>\n",
       "      <td>none</td>\n",
       "      <td>651963591256</td>\n",
       "      <td>46.775146</td>\n",
       "      <td>24.722916</td>\n",
       "      <td>{u'contributors': None, u'truncated': False, u...</td>\n",
       "      <td>Thu Oct 08 03:33:27 +0000 2015</td>\n",
       "      <td>651963591256576000</td>\n",
       "      <td>3082054530</td>\n",
       "      <td>Riyadh, Kingdom of Saudi Arabia</td>\n",
       "    </tr>\n",
       "    <tr>\n",
       "      <th>1000</th>\n",
       "      <td>اليوم في #الرياض \\n#دورة #اسرار_الارقام\\nمع ال...</td>\n",
       "      <td>none</td>\n",
       "      <td>651984206730</td>\n",
       "      <td>46.691979</td>\n",
       "      <td>24.628251</td>\n",
       "      <td>{u'contributors': None, u'truncated': False, u...</td>\n",
       "      <td>Thu Oct 08 04:55:22 +0000 2015</td>\n",
       "      <td>651984206730526720</td>\n",
       "      <td>460181902</td>\n",
       "      <td></td>\n",
       "    </tr>\n",
       "    <tr>\n",
       "      <th>10000</th>\n",
       "      <td>💙المثقفون و المرور💙 @ Riyadh, Saudi Arabia h...</td>\n",
       "      <td>none</td>\n",
       "      <td>652112285062</td>\n",
       "      <td>46.772800</td>\n",
       "      <td>24.640800</td>\n",
       "      <td>{u'contributors': None, u'truncated': False, u...</td>\n",
       "      <td>Thu Oct 08 13:24:19 +0000 2015</td>\n",
       "      <td>652112285062725632</td>\n",
       "      <td>732883772</td>\n",
       "      <td>المملكة العربية السعودية</td>\n",
       "    </tr>\n",
       "    <tr>\n",
       "      <th>10001</th>\n",
       "      <td>وانتم بخير معهدي 💚🍃 @ طريق الملك عبدالله htt...</td>\n",
       "      <td>none</td>\n",
       "      <td>652112985557</td>\n",
       "      <td>46.599580</td>\n",
       "      <td>24.726507</td>\n",
       "      <td>{u'contributors': None, u'truncated': False, u...</td>\n",
       "      <td>Thu Oct 08 13:27:06 +0000 2015</td>\n",
       "      <td>652112985557716992</td>\n",
       "      <td>251349783</td>\n",
       "      <td>riyadh</td>\n",
       "    </tr>\n",
       "    <tr>\n",
       "      <th>10002</th>\n",
       "      <td>With Nahar, ABDULLAH, and Mu3taz at AlSunbulah...</td>\n",
       "      <td>none</td>\n",
       "      <td>652113084467</td>\n",
       "      <td>46.673940</td>\n",
       "      <td>24.698700</td>\n",
       "      <td>{u'contributors': None, u'truncated': False, u...</td>\n",
       "      <td>Thu Oct 08 13:27:29 +0000 2015</td>\n",
       "      <td>652113084467687424</td>\n",
       "      <td>532669416</td>\n",
       "      <td></td>\n",
       "    </tr>\n",
       "    <tr>\n",
       "      <th>10003</th>\n",
       "      <td>Just posted a photo @ Saudi Consulting Service...</td>\n",
       "      <td>none</td>\n",
       "      <td>652113179116</td>\n",
       "      <td>46.703143</td>\n",
       "      <td>24.700467</td>\n",
       "      <td>{u'contributors': None, u'truncated': False, u...</td>\n",
       "      <td>Thu Oct 08 13:27:52 +0000 2015</td>\n",
       "      <td>652113179116335104</td>\n",
       "      <td>231756199</td>\n",
       "      <td>Riyadh, Saudi Arabia</td>\n",
       "    </tr>\n",
       "    <tr>\n",
       "      <th>10004</th>\n",
       "      <td>I'm at طريق أبو بكر اللي يقولّك أتحداك توصل ht...</td>\n",
       "      <td>none</td>\n",
       "      <td>652113306841</td>\n",
       "      <td>46.696593</td>\n",
       "      <td>24.756683</td>\n",
       "      <td>{u'contributors': None, u'truncated': False, u...</td>\n",
       "      <td>Thu Oct 08 13:28:22 +0000 2015</td>\n",
       "      <td>652113306841448448</td>\n",
       "      <td>459295806</td>\n",
       "      <td>Riyadh,SA</td>\n",
       "    </tr>\n",
       "  </tbody>\n",
       "</table>\n",
       "</div>"
      ],
      "text/plain": [
       "                                                 content data_point  \\\n",
       "0              ﺃَﺳْﺘَﻐْﻔِﺮُ اﻟﻠَّﻪَ ﻭَﺃَﺗُﻮﺏُ ﺇِﻟَﻴْﻪِ .       none   \n",
       "1      ﺳُﺒْﺤـﺎﻥَ اﻟﻠﻪِ ﻭَﺑِﺤَﻤْـﺪِﻩِ ﻋَﺪَﺩَ ﺧَﻠْـﻘِﻪ ...       none   \n",
       "10     ﴿ وَ اشرقت الأرض بنوُرِ ربها ﴾\\nيكفيك هذا لتُح...       none   \n",
       "100    اول يوم تأخير ،عز الله فلحت 🙆🏻😁 (@ Khurais ...       none   \n",
       "1000   اليوم في #الرياض \\n#دورة #اسرار_الارقام\\nمع ال...       none   \n",
       "10000  💙المثقفون و المرور💙 @ Riyadh, Saudi Arabia h...       none   \n",
       "10001  وانتم بخير معهدي 💚🍃 @ طريق الملك عبدالله htt...       none   \n",
       "10002  With Nahar, ABDULLAH, and Mu3taz at AlSunbulah...       none   \n",
       "10003  Just posted a photo @ Saudi Consulting Service...       none   \n",
       "10004  I'm at طريق أبو بكر اللي يقولّك أتحداك توصل ht...       none   \n",
       "\n",
       "              index        lat        lon  \\\n",
       "0      651957677829  46.758696  24.695512   \n",
       "1      651957822356  46.758696  24.695512   \n",
       "10     651958670104  46.696369  24.758625   \n",
       "100    651963591256  46.775146  24.722916   \n",
       "1000   651984206730  46.691979  24.628251   \n",
       "10000  652112285062  46.772800  24.640800   \n",
       "10001  652112985557  46.599580  24.726507   \n",
       "10002  652113084467  46.673940  24.698700   \n",
       "10003  652113179116  46.703143  24.700467   \n",
       "10004  652113306841  46.696593  24.756683   \n",
       "\n",
       "                                              raw_source  \\\n",
       "0      {u'contributors': None, u'truncated': False, u...   \n",
       "1      {u'contributors': None, u'truncated': False, u...   \n",
       "10     {u'contributors': None, u'truncated': False, u...   \n",
       "100    {u'contributors': None, u'truncated': False, u...   \n",
       "1000   {u'contributors': None, u'truncated': False, u...   \n",
       "10000  {u'contributors': None, u'truncated': False, u...   \n",
       "10001  {u'contributors': None, u'truncated': False, u...   \n",
       "10002  {u'contributors': None, u'truncated': False, u...   \n",
       "10003  {u'contributors': None, u'truncated': False, u...   \n",
       "10004  {u'contributors': None, u'truncated': False, u...   \n",
       "\n",
       "                                 time            tweet_id        user  \\\n",
       "0      Thu Oct 08 03:09:57 +0000 2015  651957677829025792  1624568515   \n",
       "1      Thu Oct 08 03:10:32 +0000 2015  651957822356365314  1624568515   \n",
       "10     Thu Oct 08 03:13:54 +0000 2015  651958670104760320   458978801   \n",
       "100    Thu Oct 08 03:33:27 +0000 2015  651963591256576000  3082054530   \n",
       "1000   Thu Oct 08 04:55:22 +0000 2015  651984206730526720   460181902   \n",
       "10000  Thu Oct 08 13:24:19 +0000 2015  652112285062725632   732883772   \n",
       "10001  Thu Oct 08 13:27:06 +0000 2015  652112985557716992   251349783   \n",
       "10002  Thu Oct 08 13:27:29 +0000 2015  652113084467687424   532669416   \n",
       "10003  Thu Oct 08 13:27:52 +0000 2015  652113179116335104   231756199   \n",
       "10004  Thu Oct 08 13:28:22 +0000 2015  652113306841448448   459295806   \n",
       "\n",
       "                         user_location  \n",
       "0               استغفر الله واتوب إليه  \n",
       "1               استغفر الله واتوب إليه  \n",
       "10                              Riyadh  \n",
       "100    Riyadh, Kingdom of Saudi Arabia  \n",
       "1000                                    \n",
       "10000         المملكة العربية السعودية  \n",
       "10001                           riyadh  \n",
       "10002                                   \n",
       "10003             Riyadh, Saudi Arabia  \n",
       "10004                        Riyadh,SA  "
      ]
     },
     "execution_count": 3,
     "metadata": {},
     "output_type": "execute_result"
    }
   ],
   "source": [
    "tweet_list.head(10)"
   ]
  },
  {
   "cell_type": "code",
   "execution_count": 14,
   "metadata": {
    "collapsed": false
   },
   "outputs": [
    {
     "name": "stdout",
     "output_type": "stream",
     "text": [
      "99451\n"
     ]
    }
   ],
   "source": [
    "print len(tweet_list)"
   ]
  },
  {
   "cell_type": "code",
   "execution_count": 19,
   "metadata": {
    "collapsed": false
   },
   "outputs": [],
   "source": [
    "#de duplicate\n",
    "\n",
    "tweet_list.drop_duplicates(subset='tweet_id',inplace=True)"
   ]
  },
  {
   "cell_type": "code",
   "execution_count": 20,
   "metadata": {
    "collapsed": false
   },
   "outputs": [
    {
     "name": "stdout",
     "output_type": "stream",
     "text": [
      "13643\n"
     ]
    }
   ],
   "source": [
    "print len(tweet_list)"
   ]
  },
  {
   "cell_type": "code",
   "execution_count": 4,
   "metadata": {
    "collapsed": false
   },
   "outputs": [],
   "source": [
    "# Search for Arabic terms using unicode\n",
    "# It works on English too\n",
    "\n",
    "def count_search_terms(arabic_word):\n",
    "    j=0\n",
    "    search_term = unicode(arabic_word, encoding=\"utf-8\")\n",
    "    for row in tweet_list.itertuples():\n",
    "        if search_term in row[1]:\n",
    "            j+=1\n",
    "    return j\n"
   ]
  },
  {
   "cell_type": "code",
   "execution_count": 21,
   "metadata": {
    "collapsed": false
   },
   "outputs": [
    {
     "data": {
      "text/plain": [
       "41"
      ]
     },
     "execution_count": 21,
     "metadata": {},
     "output_type": "execute_result"
    }
   ],
   "source": [
    "count_search_terms(\"صلى\")"
   ]
  },
  {
   "cell_type": "code",
   "execution_count": 38,
   "metadata": {
    "collapsed": false
   },
   "outputs": [
    {
     "data": {
      "text/plain": [
       "2"
      ]
     },
     "execution_count": 38,
     "metadata": {},
     "output_type": "execute_result"
    }
   ],
   "source": [
    "count_search_terms(\"pray\")"
   ]
  },
  {
   "cell_type": "code",
   "execution_count": 39,
   "metadata": {
    "collapsed": false
   },
   "outputs": [],
   "source": [
    "# Now count multiple terms at once\n",
    "# The function counts both Arabic and English versions\n",
    "\n",
    "prayer_dict = {'pray':'صلى','prayer':'صلاة','mosque':'مسجد','Islam':'الإسلام'}\n",
    "food_dict = {'food':'طعام','eating':'يتناول الطعام','falafel':'فلافل','shawarma':'الشاورما',\n",
    "            'starbucks':'ستاربكس','mcdonalds':'ماكدونالدز'}\n",
    "traffic_dict = {'parking lot':'باحة وقوف السيارات','parking':'موقف','park':'إيقاف','park_alt':'وقوف',\n",
    "               'traffic':'حركة المرور','park_alt2':'تقف','cars':'السيارات','car':'المركبات'}\n",
    "nightlife_dict = {'party':'حزب','dance':'رقص','nightclub':'ملهى','bookstore':'مكتبة'}\n",
    "\n",
    "def count_category(search_dict):\n",
    "    i=0\n",
    "    for key in search_dict:\n",
    "        count = count_search_terms(search_dict[key])\n",
    "        count = count + count_search_terms(key)\n",
    "        i+=count\n",
    "        print key + \": \" + str(count)\n",
    "    print \"category total: \" + str(i)"
   ]
  },
  {
   "cell_type": "code",
   "execution_count": 35,
   "metadata": {
    "collapsed": false
   },
   "outputs": [
    {
     "name": "stdout",
     "output_type": "stream",
     "text": [
      "pray: 43\n",
      "Islam: 31\n",
      "mosque: 9\n",
      "prayer: 76\n",
      "category total: 159\n"
     ]
    }
   ],
   "source": [
    "count_category(prayer_dict)"
   ]
  },
  {
   "cell_type": "code",
   "execution_count": 40,
   "metadata": {
    "collapsed": false
   },
   "outputs": [
    {
     "name": "stdout",
     "output_type": "stream",
     "text": [
      "eating: 0\n",
      "food: 31\n",
      "starbucks: 192\n",
      "falafel: 6\n",
      "shawarma: 2\n",
      "mcdonalds: 28\n",
      "category total: 259\n"
     ]
    }
   ],
   "source": [
    "count_category(food_dict)"
   ]
  },
  {
   "cell_type": "code",
   "execution_count": 37,
   "metadata": {
    "collapsed": false
   },
   "outputs": [
    {
     "name": "stdout",
     "output_type": "stream",
     "text": [
      "traffic: 0\n",
      "parking: 9\n",
      "park_alt: 8\n",
      "cars: 8\n",
      "park_alt2: 7\n",
      "park: 5\n",
      "parking lot: 0\n",
      "car: 20\n",
      "category total: 57\n"
     ]
    }
   ],
   "source": [
    "count_category(traffic_dict)"
   ]
  },
  {
   "cell_type": "code",
   "execution_count": 41,
   "metadata": {
    "collapsed": false
   },
   "outputs": [
    {
     "name": "stdout",
     "output_type": "stream",
     "text": [
      "dance: 6\n",
      "party: 10\n",
      "bookstore: 27\n",
      "nightclub: 0\n",
      "category total: 43\n"
     ]
    }
   ],
   "source": [
    "count_category(nightlife_dict)"
   ]
  },
  {
   "cell_type": "code",
   "execution_count": 43,
   "metadata": {
    "collapsed": false
   },
   "outputs": [],
   "source": [
    "# Add a \"category\" column\n",
    "tweet_list['category'] = \"\"\n"
   ]
  },
  {
   "cell_type": "code",
   "execution_count": null,
   "metadata": {
    "collapsed": true
   },
   "outputs": [],
   "source": [
    "# Function to fill the categories\n"
   ]
  }
 ],
 "metadata": {
  "kernelspec": {
   "display_name": "Python 2",
   "language": "python",
   "name": "python2"
  },
  "language_info": {
   "codemirror_mode": {
    "name": "ipython",
    "version": 2
   },
   "file_extension": ".py",
   "mimetype": "text/x-python",
   "name": "python",
   "nbconvert_exporter": "python",
   "pygments_lexer": "ipython2",
   "version": "2.7.11"
  }
 },
 "nbformat": 4,
 "nbformat_minor": 0
}
